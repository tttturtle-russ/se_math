{
 "cells": [
  {
   "cell_type": "markdown",
   "source": [
    "#### 原理：根据迭代条件\n",
    "##### 令 ${bold}r_1 = a$ $r_2 = b$\n",
    "##### 进行迭代n次后\n",
    "##### $r_{n+1} = r_n + q_nr_{n-1}$\n",
    "##### 当 $r_n = 0$ 时， $r_{n-1}$ 即为最大公约数"
   ],
   "metadata": {
    "collapsed": false
   }
  },
  {
   "cell_type": "code",
   "execution_count": 2,
   "outputs": [
    {
     "name": "stdout",
     "output_type": "stream",
     "text": [
      "693\n",
      "1\n"
     ]
    }
   ],
   "source": [
    "# 辗转相除法 循环\n",
    "def gcd_loop(a,b):\n",
    "    while b != 0:\n",
    "        a , b = b , a % b\n",
    "    return abs(a)\n",
    "\n",
    "print(gcd_loop(1142757,398475))\n",
    "print(gcd_loop(1,2222))"
   ],
   "metadata": {
    "collapsed": false
   }
  },
  {
   "cell_type": "markdown",
   "source": [],
   "metadata": {
    "collapsed": false
   }
  },
  {
   "cell_type": "code",
   "execution_count": 3,
   "outputs": [
    {
     "name": "stdout",
     "output_type": "stream",
     "text": [
      "693\n"
     ]
    }
   ],
   "source": [
    "# 辗转相除法 递归\n",
    "def gcd_recursive(a,b):\n",
    "    if b == 0:\n",
    "        return abs(a)\n",
    "    return gcd_recursive(b,a % b)\n",
    "\n",
    "print(gcd_recursive(1142757,398475))"
   ],
   "metadata": {
    "collapsed": false
   }
  },
  {
   "cell_type": "code",
   "execution_count": null,
   "outputs": [],
   "source": [],
   "metadata": {
    "collapsed": false
   }
  }
 ],
 "metadata": {
  "kernelspec": {
   "display_name": "Python 3",
   "language": "python",
   "name": "python3"
  },
  "language_info": {
   "codemirror_mode": {
    "name": "ipython",
    "version": 2
   },
   "file_extension": ".py",
   "mimetype": "text/x-python",
   "name": "python",
   "nbconvert_exporter": "python",
   "pygments_lexer": "ipython2",
   "version": "2.7.6"
  }
 },
 "nbformat": 4,
 "nbformat_minor": 0
}
