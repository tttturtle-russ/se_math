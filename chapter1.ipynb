{
 "cells": [
  {
   "cell_type": "code",
   "execution_count": 17,
   "outputs": [
    {
     "name": "stdout",
     "output_type": "stream",
     "text": [
      "Looking in indexes: https://pypi.tuna.tsinghua.edu.cn/simple\n",
      "Requirement already satisfied: numpy==1.24.2 in d:\\code\\python\\venv\\lib\\site-packages (from -r requirements.txt (line 1)) (1.24.2)\n"
     ]
    },
    {
     "name": "stderr",
     "output_type": "stream",
     "text": [
      "\n",
      "[notice] A new release of pip available: 22.3.1 -> 23.1.2\n",
      "[notice] To update, run: python.exe -m pip install --upgrade pip\n"
     ]
    }
   ],
   "source": [
    "!pip3 install -r requirements.txt"
   ],
   "metadata": {
    "collapsed": false,
    "ExecuteTime": {
     "end_time": "2023-05-30T14:44:02.453582600Z",
     "start_time": "2023-05-30T14:44:01.318845600Z"
    }
   }
  },
  {
   "cell_type": "markdown",
   "source": [
    "## 原理：根据迭代条件\n",
    "### 令 $r_1 = a$ $r_2 = b$\n",
    "### 进行迭代n次后\n",
    "### $r_{n+1} = r_n + q_nr_{n-1}$\n",
    "### 当 $r_n = 0$ 时， $r_{n-1}$ 即为最大公约数"
   ],
   "metadata": {
    "collapsed": false
   }
  },
  {
   "cell_type": "code",
   "execution_count": 18,
   "outputs": [
    {
     "name": "stdout",
     "output_type": "stream",
     "text": [
      "26159\n"
     ]
    }
   ],
   "source": [
    "# 辗转相除法 循环\n",
    "def gcd_loop(a,b):\n",
    "    while b != 0:\n",
    "        a , b = b , a % b\n",
    "    return abs(a)\n",
    "\n",
    "print(gcd_loop(4970210,19854681))"
   ],
   "metadata": {
    "collapsed": false,
    "ExecuteTime": {
     "end_time": "2023-05-30T14:44:02.514666100Z",
     "start_time": "2023-05-30T14:44:02.455583900Z"
    }
   }
  },
  {
   "cell_type": "markdown",
   "source": [],
   "metadata": {
    "collapsed": false
   }
  },
  {
   "cell_type": "code",
   "execution_count": 19,
   "outputs": [
    {
     "name": "stdout",
     "output_type": "stream",
     "text": [
      "15\n"
     ]
    }
   ],
   "source": [
    "# 辗转相除法 递归\n",
    "def gcd_recursive(a,b):\n",
    "    if b == 0:\n",
    "        return abs(a)\n",
    "    return gcd_recursive(b,a % b)\n",
    "\n",
    "print(gcd_recursive(12345,345))"
   ],
   "metadata": {
    "collapsed": false,
    "ExecuteTime": {
     "end_time": "2023-05-30T14:44:02.525959600Z",
     "start_time": "2023-05-30T14:44:02.471607800Z"
    }
   }
  },
  {
   "cell_type": "markdown",
   "source": [
    "## 求最小公倍数\n",
    "### $a*b = [a,b] * (a , b)$\n"
   ],
   "metadata": {
    "collapsed": false
   }
  },
  {
   "cell_type": "code",
   "execution_count": 20,
   "outputs": [
    {
     "name": "stdout",
     "output_type": "stream",
     "text": [
      "2906500923301425015\n"
     ]
    }
   ],
   "source": [
    "def lcm(a,b):\n",
    "    return a * b // gcd_loop(a,b)\n",
    "\n",
    "ans = lcm(1178859345,12327598435)\n",
    "print(ans)\n"
   ],
   "metadata": {
    "collapsed": false,
    "ExecuteTime": {
     "end_time": "2023-05-30T14:44:02.526957800Z",
     "start_time": "2023-05-30T14:44:02.487643200Z"
    }
   }
  },
  {
   "cell_type": "markdown",
   "source": [
    "## multi-gcd"
   ],
   "metadata": {
    "collapsed": false
   }
  },
  {
   "cell_type": "code",
   "execution_count": 30,
   "outputs": [
    {
     "name": "stdout",
     "output_type": "stream",
     "text": [
      "1\n"
     ]
    }
   ],
   "source": [
    "def multi_gcd(*args):\n",
    "    gcd = 0\n",
    "    for i in args:\n",
    "        gcd = gcd_loop(i,gcd)\n",
    "    return gcd\n",
    "\n",
    "print(multi_gcd(234329874,3248783444,17,234897893,34))"
   ],
   "metadata": {
    "collapsed": false,
    "ExecuteTime": {
     "end_time": "2023-05-30T14:46:33.277881700Z",
     "start_time": "2023-05-30T14:46:33.271369200Z"
    }
   }
  },
  {
   "cell_type": "markdown",
   "source": [
    "## multi-lcm"
   ],
   "metadata": {
    "collapsed": false
   }
  },
  {
   "cell_type": "code",
   "execution_count": 22,
   "outputs": [
    {
     "name": "stdout",
     "output_type": "stream",
     "text": [
      "306000\n"
     ]
    }
   ],
   "source": [
    "def multi_lcm(*args):\n",
    "    ret = 1\n",
    "    for i in args:\n",
    "        ret = lcm(ret,i)\n",
    "    return ret\n",
    "\n",
    "print(multi_lcm(15,125,20,36,48,136))\n"
   ],
   "metadata": {
    "collapsed": false,
    "ExecuteTime": {
     "end_time": "2023-05-30T14:44:02.534468500Z",
     "start_time": "2023-05-30T14:44:02.518961100Z"
    }
   }
  },
  {
   "cell_type": "markdown",
   "source": [
    "## 二元一次不定方程\n",
    "### 设a,b是两个不全为0的整数,整系数一次不定方程 $ax + by = c$ 有解的充要条件是$ gcd(a,b)|c $,方程的解为 $x = x_0 + \\frac{b}{\\gcd(a,b)}k$ $y = y_0 - \\frac{a}{\\gcd(a,b)}k$ 其中 $k$ 为任意整数"
   ],
   "metadata": {
    "collapsed": false
   }
  },
  {
   "cell_type": "code",
   "execution_count": 23,
   "outputs": [
    {
     "name": "stdout",
     "output_type": "stream",
     "text": [
      "(9, -322)\n"
     ]
    }
   ],
   "source": [
    "def find_x0_y0(a,b):\n",
    "    if b == 0:\n",
    "        return 1, 0\n",
    "    tmp = find_x0_y0(b, a % b)\n",
    "    x0 = tmp[1]\n",
    "    y0 = tmp[0] - (a // b) * tmp[1]\n",
    "    return x0 ,y0\n",
    "\n",
    "print(find_x0_y0(12345,345))"
   ],
   "metadata": {
    "collapsed": false,
    "ExecuteTime": {
     "end_time": "2023-05-30T14:44:02.609068500Z",
     "start_time": "2023-05-30T14:44:02.535468700Z"
    }
   }
  },
  {
   "cell_type": "code",
   "execution_count": 24,
   "outputs": [
    {
     "name": "stdout",
     "output_type": "stream",
     "text": [
      "True\n",
      "False\n",
      "False\n",
      "False\n"
     ]
    }
   ],
   "source": [
    "def is_solvable_binary(a,b,c):\n",
    "    return c % gcd_loop(a,b) == 0\n",
    "\n",
    "print(is_solvable_binary(1402,-1969,2))\n",
    "print(is_solvable_binary(60,123,25))\n",
    "print(is_solvable_binary(903,731,1106))\n",
    "print(is_solvable_binary(5,20,1))"
   ],
   "metadata": {
    "collapsed": false,
    "ExecuteTime": {
     "end_time": "2023-05-30T14:44:02.610071Z",
     "start_time": "2023-05-30T14:44:02.549498200Z"
    }
   }
  },
  {
   "cell_type": "code",
   "execution_count": 25,
   "outputs": [
    {
     "name": "stdout",
     "output_type": "stream",
     "text": [
      "(-1000, 97, 1000, -96)\n"
     ]
    }
   ],
   "source": [
    "# 解二元一次不定方程\n",
    "def solve_binary(a,b,c):\n",
    "    if not is_solvable_binary(a,b,c):\n",
    "        return None\n",
    "    x0,y0 = find_x0_y0(a,b)\n",
    "    return x0 * c,b,y0 * c,-a\n",
    "\n",
    "if ans := solve_binary(96,97,1000):\n",
    "    print(ans)\n",
    "else:\n",
    "    print(\"无解\")"
   ],
   "metadata": {
    "collapsed": false,
    "ExecuteTime": {
     "end_time": "2023-05-30T14:44:02.610071Z",
     "start_time": "2023-05-30T14:44:02.566019600Z"
    }
   }
  },
  {
   "cell_type": "markdown",
   "source": [
    "## 高斯函数: $ [x] = x的整数部分 {x} = x的小数部分 $\n",
    "### 性质1：若$ x \\leq y \\iff [x] \\leq [y] $\n",
    "### 性质2：整数a满足 $ x-1 < a \\leq x \\iff [a] = x $\n",
    "### 性质3：整数a满足 $ a \\leq x < a+1 \\iff a = [x]$\n",
    "### 性质4：对于任意整数n, $ [x + n] = n + [x] $"
   ],
   "metadata": {
    "collapsed": false
   }
  },
  {
   "cell_type": "code",
   "execution_count": 26,
   "outputs": [],
   "source": [
    "import numpy as np\n",
    "def gauss(x):\n",
    "    return np.floor(x),x - np.floor(x)\n"
   ],
   "metadata": {
    "collapsed": false,
    "ExecuteTime": {
     "end_time": "2023-05-30T14:44:02.610071Z",
     "start_time": "2023-05-30T14:44:02.582042500Z"
    }
   }
  },
  {
   "cell_type": "markdown",
   "source": [
    "## 模重复算法\n",
    "### $ e = (e_{n-1}e_{n-2}...e_{1}e_{0})_{2} $ 是 $e$的二进制表示，其中$e_{i}(0 $$\\leq$$i$$\\leq$$n-1)$为0或者1，那么$ a^{e} = $ $a^{e_{n-1}2^{n-1}}a^{e_{n-2}2^{n-2}}...a^{e_{1}2}a^{e_{0}} = (a^{2^{n-1}})^{e_{n-1}}(a^{2^{n-2}})^{e_{n-2}}...(a^{2})^{e_{1}}(a)^{e_{0}}$\n",
    "### 若我们先依次计算:\n",
    "### $ b_0 $$\\equiv$$ a $$\\equiv$$ a^{2^{0}} (mod m) , b_1 $$\\equiv$$ b_0^{2} (mod m) , b_2 $$\\equiv$$ b_1^{2} (mod m) ... b_{n-2} $$\\equiv$$ b_{n-3}^{2} (mod m) , b_{n-1} $$\\equiv$$ b_{n-2}^{2} (mod m)$\n",
    "### 那么 $ a^{e} $$\\equiv$$ $$\\prod_{e_i \\ne 0}$$ b_{i} (mod m)$"
   ],
   "metadata": {
    "collapsed": false
   }
  },
  {
   "cell_type": "code",
   "execution_count": 27,
   "outputs": [
    {
     "name": "stdout",
     "output_type": "stream",
     "text": [
      "9\n"
     ]
    }
   ],
   "source": [
    "def my_power_mod(a, e, m):\n",
    "    bin_e = bin(e)[2:]\n",
    "    b = a % m\n",
    "    ret = 1\n",
    "    i = len(bin_e) - 1\n",
    "    while i >= 0:\n",
    "        if bin_e[i] == '1':\n",
    "            ret = (ret * b) % m\n",
    "        b = (b * b) % m\n",
    "        i -= 1\n",
    "    print(ret)\n",
    "\n",
    "\n",
    "my_power_mod(3,27381102,45)"
   ],
   "metadata": {
    "collapsed": false,
    "ExecuteTime": {
     "end_time": "2023-05-30T14:44:02.611071900Z",
     "start_time": "2023-05-30T14:44:02.597556200Z"
    }
   }
  },
  {
   "cell_type": "code",
   "execution_count": 28,
   "outputs": [
    {
     "ename": "IndentationError",
     "evalue": "expected an indented block (437701594.py, line 10)",
     "output_type": "error",
     "traceback": [
      "\u001B[1;36m  Cell \u001B[1;32mIn[28], line 10\u001B[1;36m\u001B[0m\n\u001B[1;33m    \u001B[0m\n\u001B[1;37m    ^\u001B[0m\n\u001B[1;31mIndentationError\u001B[0m\u001B[1;31m:\u001B[0m expected an indented block\n"
     ]
    }
   ],
   "source": [
    "def binary_search(array ,target):\n",
    "    right = len(array) - 1\n",
    "    left = 0\n",
    "    mid = left + (right - left) // 2\n",
    "    while left < right:\n",
    "        if array[mid] == target:\n",
    "            break\n",
    "        elif array[mid] < target:\n",
    "\n"
   ],
   "metadata": {
    "collapsed": false,
    "ExecuteTime": {
     "end_time": "2023-05-30T14:44:02.630096900Z",
     "start_time": "2023-05-30T14:44:02.613588200Z"
    }
   }
  }
 ],
 "metadata": {
  "kernelspec": {
   "display_name": "Python 3",
   "language": "python",
   "name": "python3"
  },
  "language_info": {
   "codemirror_mode": {
    "name": "ipython",
    "version": 2
   },
   "file_extension": ".py",
   "mimetype": "text/x-python",
   "name": "python",
   "nbconvert_exporter": "python",
   "pygments_lexer": "ipython2",
   "version": "2.7.6"
  }
 },
 "nbformat": 4,
 "nbformat_minor": 0
}
