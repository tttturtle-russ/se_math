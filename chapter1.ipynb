{
 "cells": [
  {
   "cell_type": "markdown",
   "source": [
    "## 原理：根据迭代条件\n",
    "### 令 $r_1 = a$ $r_2 = b$\n",
    "### 进行迭代n次后\n",
    "### $r_{n+1} = r_n + q_nr_{n-1}$\n",
    "### 当 $r_n = 0$ 时， $r_{n-1}$ 即为最大公约数"
   ],
   "metadata": {
    "collapsed": false
   }
  },
  {
   "cell_type": "code",
   "execution_count": 19,
   "outputs": [
    {
     "name": "stdout",
     "output_type": "stream",
     "text": [
      "693\n",
      "1\n"
     ]
    }
   ],
   "source": [
    "# 辗转相除法 循环\n",
    "def gcd_loop(a,b):\n",
    "    while b != 0:\n",
    "        a , b = b , a % b\n",
    "    return abs(a)\n",
    "\n",
    "print(gcd_loop(1142757,398475))\n",
    "print(gcd_loop(1,2222))"
   ],
   "metadata": {
    "collapsed": false,
    "ExecuteTime": {
     "start_time": "2023-03-25T17:28:11.014278Z",
     "end_time": "2023-03-25T17:28:11.068254Z"
    }
   }
  },
  {
   "cell_type": "markdown",
   "source": [],
   "metadata": {
    "collapsed": false
   }
  },
  {
   "cell_type": "code",
   "execution_count": 20,
   "outputs": [
    {
     "name": "stdout",
     "output_type": "stream",
     "text": [
      "693\n"
     ]
    }
   ],
   "source": [
    "# 辗转相除法 递归\n",
    "def gcd_recursive(a,b):\n",
    "    if b == 0:\n",
    "        return abs(a)\n",
    "    return gcd_recursive(b,a % b)\n",
    "\n",
    "print(gcd_recursive(1142757,398475))"
   ],
   "metadata": {
    "collapsed": false,
    "ExecuteTime": {
     "start_time": "2023-03-25T17:28:11.026318Z",
     "end_time": "2023-03-25T17:28:11.127012Z"
    }
   }
  },
  {
   "cell_type": "markdown",
   "source": [
    "## 求最小公倍数\n",
    "### $a*b = [a,b] * (a , b)$\n"
   ],
   "metadata": {
    "collapsed": false
   }
  },
  {
   "cell_type": "code",
   "execution_count": 21,
   "outputs": [
    {
     "name": "stdout",
     "output_type": "stream",
     "text": [
      "6\n"
     ]
    }
   ],
   "source": [
    "def lcm(a,b):\n",
    "    return int(a * b / gcd_recursive(a,b))\n",
    "\n",
    "print(lcm(3,6))"
   ],
   "metadata": {
    "collapsed": false,
    "ExecuteTime": {
     "start_time": "2023-03-25T17:28:11.041673Z",
     "end_time": "2023-03-25T17:28:11.127012Z"
    }
   }
  },
  {
   "cell_type": "markdown",
   "source": [
    "## multi-gcd"
   ],
   "metadata": {
    "collapsed": false
   }
  },
  {
   "cell_type": "code",
   "execution_count": 22,
   "outputs": [
    {
     "name": "stdout",
     "output_type": "stream",
     "text": [
      "2\n",
      "1\n"
     ]
    }
   ],
   "source": [
    "def multi_gcd(*args):\n",
    "    gcd = 0\n",
    "    for i in args:\n",
    "        gcd = gcd_loop(i,gcd)\n",
    "    return gcd\n",
    "\n",
    "\n",
    "print(multi_gcd(0, 2, 4))\n",
    "print(multi_gcd(0,0,0,0,0,0,9,3,2,4))"
   ],
   "metadata": {
    "collapsed": false,
    "ExecuteTime": {
     "start_time": "2023-03-25T17:28:11.057718Z",
     "end_time": "2023-03-25T17:28:11.142522Z"
    }
   }
  },
  {
   "cell_type": "markdown",
   "source": [
    "## multi-lcm"
   ],
   "metadata": {
    "collapsed": false
   }
  },
  {
   "cell_type": "code",
   "execution_count": 23,
   "outputs": [
    {
     "name": "stdout",
     "output_type": "stream",
     "text": [
      "210\n"
     ]
    }
   ],
   "source": [
    "def multi_lcm(*args):\n",
    "    ret = 1\n",
    "    for i in args:\n",
    "        ret = lcm(ret,i)\n",
    "    return ret\n",
    "\n",
    "print(multi_lcm(2,3,5,7))"
   ],
   "metadata": {
    "collapsed": false,
    "ExecuteTime": {
     "start_time": "2023-03-25T17:28:11.069255Z",
     "end_time": "2023-03-25T17:28:11.155557Z"
    }
   }
  },
  {
   "cell_type": "markdown",
   "source": [
    "## 模重复算法\n",
    "### $ e = (e_{n-1}e_{n-2}...e_{1}e_{0})_{2} $ 是 $e$的二进制表示，其中$e_{i}(0 $$\\leq$$i$$\\leq$$n-1)$为0或者1，那么$ a^{e} = $ $a^{e_{n-1}2^{n-1}}a^{e_{n-2}2^{n-2}}...a^{e_{1}2}a^{e_{0}} = (a^{2^{n-1}})^{e_{n-1}}(a^{2^{n-2}})^{e_{n-2}}...(a^{2})^{e_{1}}(a)^{e_{0}}$\n",
    "### 若我们先依次计算:\n",
    "### $ b_0 $$\\equiv$$ a $$\\equiv$$ a^{2^{0}} (mod m) , b_1 $$\\equiv$$ b_0^{2} (mod m) , b_2 $$\\equiv$$ b_1^{2} (mod m) ... b_{n-2} $$\\equiv$$ b_{n-3}^{2} (mod m) , b_{n-1} $$\\equiv$$ b_{n-2}^{2} (mod m)$\n",
    "### 那么 $ a^{e} $$\\equiv$$ $$\\prod_{e_i \\ne 0}$$ b_{i} (mod m)$"
   ],
   "metadata": {
    "collapsed": false
   }
  },
  {
   "cell_type": "code",
   "execution_count": 24,
   "outputs": [
    {
     "name": "stdout",
     "output_type": "stream",
     "text": [
      "42253204095794777\n"
     ]
    }
   ],
   "source": [
    "def my_power_mod(a, e, m):\n",
    "    bin_e = bin(e)[2:]\n",
    "    b = a % m\n",
    "    ret = 1\n",
    "    i = len(bin_e) - 1\n",
    "    while i >= 0:\n",
    "        if bin_e[i] == '1':\n",
    "            ret = (ret * b) % m\n",
    "        b = (b * b) % m\n",
    "        i -= 1\n",
    "    print(ret)\n",
    "\n",
    "\n",
    "my_power_mod(3423748327827483274, 3 ** 2020, 43857843758454553)"
   ],
   "metadata": {
    "collapsed": false,
    "ExecuteTime": {
     "start_time": "2023-03-25T17:28:11.092316Z",
     "end_time": "2023-03-25T17:28:11.155557Z"
    }
   }
  }
 ],
 "metadata": {
  "kernelspec": {
   "display_name": "Python 3",
   "language": "python",
   "name": "python3"
  },
  "language_info": {
   "codemirror_mode": {
    "name": "ipython",
    "version": 2
   },
   "file_extension": ".py",
   "mimetype": "text/x-python",
   "name": "python",
   "nbconvert_exporter": "python",
   "pygments_lexer": "ipython2",
   "version": "2.7.6"
  }
 },
 "nbformat": 4,
 "nbformat_minor": 0
}
